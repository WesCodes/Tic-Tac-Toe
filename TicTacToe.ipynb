{
 "cells": [
  {
   "cell_type": "markdown",
   "metadata": {},
   "source": [
    "# Tic-Tac-Toe"
   ]
  },
  {
   "cell_type": "code",
   "execution_count": null,
   "metadata": {},
   "outputs": [],
   "source": [
    "#for random int\n",
    "import random\n",
    "#for time delay function\n",
    "import time\n"
   ]
  },
  {
   "cell_type": "code",
   "execution_count": null,
   "metadata": {},
   "outputs": [],
   "source": [
    "#the global variables\n",
    "tttArray = [['_', '_', '_'],\n",
    "            ['_', '_','_'],\n",
    "            ['_', '_', '_']]\n",
    "playerTurn = 1\n",
    "playerOne = \"\"\n",
    "playerTwo = \"\"\n"
   ]
  },
  {
   "cell_type": "code",
   "execution_count": null,
   "metadata": {},
   "outputs": [],
   "source": [
    "#change the playerOne \n",
    "#name - the name to change to\n",
    "def setPlayerOne(name):\n",
    "    global playerOne\n",
    "    playerOne = name\n"
   ]
  },
  {
   "cell_type": "code",
   "execution_count": null,
   "metadata": {},
   "outputs": [],
   "source": [
    "#change the playerTwo\n",
    "#name - the name to change to\n",
    "def setPlayerTwo(name):\n",
    "    global playerTwo\n",
    "    playerTwo = name\n"
   ]
  },
  {
   "cell_type": "code",
   "execution_count": null,
   "metadata": {},
   "outputs": [],
   "source": [
    "#change player turn\n",
    "#turn - the turn to change to \n",
    "def setPlayerTurn(turn):\n",
    "    global playerTurn\n",
    "    playerTurn = turn\n",
    "    "
   ]
  },
  {
   "cell_type": "code",
   "execution_count": null,
   "metadata": {},
   "outputs": [],
   "source": [
    "#get the playerTurn\n",
    "#return - playerTurn\n",
    "def getPlayerTurn():\n",
    "    global playerTurn\n",
    "    return playerTurn\n"
   ]
  },
  {
   "cell_type": "code",
   "execution_count": null,
   "metadata": {},
   "outputs": [],
   "source": [
    "#get the player one name\n",
    "#return player one name\n",
    "def getPlayerOne():\n",
    "    global playerOne\n",
    "    return playerOne\n"
   ]
  },
  {
   "cell_type": "code",
   "execution_count": null,
   "metadata": {},
   "outputs": [],
   "source": [
    "#get player two name\n",
    "#return player two name\n",
    "def getPlayerTwo():\n",
    "    global playerTwo\n",
    "    return playerTwo\n"
   ]
  },
  {
   "cell_type": "code",
   "execution_count": null,
   "metadata": {},
   "outputs": [],
   "source": [
    "#print a 3x3 board\n",
    "#board - the tic tac toe board\n",
    "def printBoard(board):\n",
    "    for row in tttArray:\n",
    "        for col in row:\n",
    "            print(\"|\" + col, end = \"\")\n",
    "        print(\"|\")\n",
    "        print()\n"
   ]
  },
  {
   "cell_type": "code",
   "execution_count": null,
   "metadata": {},
   "outputs": [],
   "source": [
    "#update the board\n",
    "#row - the row num of board\n",
    "#col - the col num of board\n",
    "#item - the item to be placed on the board\n",
    "#board - the board to be updated\n",
    "\n",
    "def updateBoard(row, col, item, board):\n",
    "    board[row][col] = item\n",
    "    printBoard(board)\n"
   ]
  },
  {
   "cell_type": "code",
   "execution_count": null,
   "metadata": {},
   "outputs": [],
   "source": [
    "#returns if won or lost\n",
    "i = 0;\n",
    "column = set()\n",
    "def winCheck():\n",
    "    #checks the row using set to check if row is unique and not \"_\"\n",
    "    for row in tttArray:\n",
    "        if len(set(row)) == 1 and next(iter(set(row))) != \"_\":\n",
    "            return True\n",
    "    #checks the col using set if col is unique and not \"_\"\n",
    "    for row in range(0,len(tttArray)):\n",
    "        for col in range(0, len(tttArray)):\n",
    "            column.add(tttArray[col][row])\n",
    "        if len(column) == 1 and next(iter(column)) != \"_\":\n",
    "            return True\n",
    "        column.clear()\n",
    "    #checks the diagonal manually\n",
    "    if tttArray[0][0] == tttArray[1][1] == tttArray[2][2] == \"X\":\n",
    "        return True \n",
    "    elif tttArray[0][0] == tttArray[1][1] == tttArray[2][2] == \"O\":\n",
    "        return True\n",
    "    elif tttArray[0][2] == tttArray[1][1] == tttArray[2][0] == \"O\":\n",
    "        return True\n",
    "    elif tttArray[0][2] == tttArray[1][1] == tttArray[2][0] == \"O\":\n",
    "        return True\n",
    "    return False\n",
    "      "
   ]
  },
  {
   "cell_type": "code",
   "execution_count": null,
   "metadata": {},
   "outputs": [],
   "source": [
    "#win - if won or lost\n",
    "#returns if tie or not\n",
    "def tieCheck(win):\n",
    "    check = False\n",
    "    if win != False:\n",
    "        return False\n",
    "    else:\n",
    "        #check if all rows are not empty\n",
    "        for row in tttArray:\n",
    "            if \"_\" in row:\n",
    "                check = False\n",
    "            else:\n",
    "                check = True\n",
    "        return check\n"
   ]
  },
  {
   "cell_type": "code",
   "execution_count": null,
   "metadata": {},
   "outputs": [],
   "source": [
    "def inputError():\n",
    "    print(\"Player {playerturn}, Please Enter Proper Input\".format(playerturn = playerTurn))\n"
   ]
  },
  {
   "cell_type": "code",
   "execution_count": null,
   "metadata": {},
   "outputs": [],
   "source": [
    "def cellError():\n",
    "    print(\"Cell Is Either Occupied or Out Of Bound\")\n"
   ]
  },
  {
   "cell_type": "code",
   "execution_count": null,
   "metadata": {},
   "outputs": [],
   "source": [
    "#gets the name of the user depending on turn\n",
    "#playerTurn - the turn of player\n",
    "#returns the player name\n",
    "def whoseTurn(playerTurn):\n",
    "    if playerTurn == 1:\n",
    "        return playerOne\n",
    "    elif playerTurn == 2:\n",
    "        return playerTwo\n",
    "    else:\n",
    "        return None"
   ]
  },
  {
   "cell_type": "code",
   "execution_count": null,
   "metadata": {},
   "outputs": [],
   "source": [
    "#gets the marker of the user depending on turn\n",
    "#playerTurn - the turn of player\n",
    "#returns the player marker(X or O)\n",
    "def whoseMarker(playerTurn):\n",
    "    if playerTurn == 1:\n",
    "        return 'X'\n",
    "    elif playerTurn == 2:\n",
    "        return 'O'\n",
    "    else:\n",
    "        return None\n"
   ]
  },
  {
   "cell_type": "code",
   "execution_count": null,
   "metadata": {},
   "outputs": [],
   "source": [
    "#returns the userInput after passing check\n",
    "def userInput():\n",
    "    rowNum = 0\n",
    "    colNum = 0\n",
    "    while True:\n",
    "        #get the name of player and appropriate marker\n",
    "        playerName = whoseTurn(playerTurn)\n",
    "        playerMarker = whoseMarker(playerTurn)\n",
    "        \n",
    "        userInput = input(\"{playerTurn}'s Turn(row#, col#) {playerMarker}: \".format(playerTurn = playerName, playerMarker = playerMarker))\n",
    "        userInput = (userInput.strip()).split(\",\") \n",
    "        #to check if the row and col are number\n",
    "        try:\n",
    "            #to check the length of userInput\n",
    "            if len(userInput) != 2:\n",
    "                 inputError()\n",
    "                 continue\n",
    "            rowNum = int(userInput[0]) - 1\n",
    "            colNum = int(userInput[1]) - 1\n",
    "        except ValueError:\n",
    "            inputError()\n",
    "            continue\n",
    "        #check if userInput is already occupied or out of bound\n",
    "        if checkBoard(rowNum , colNum) == False:\n",
    "            cellError()\n",
    "            continue\n",
    "        else:\n",
    "            return [rowNum, colNum]\n",
    "        "
   ]
  },
  {
   "cell_type": "code",
   "execution_count": null,
   "metadata": {},
   "outputs": [],
   "source": [
    "#check if spot on board is occupied and out of bound\n",
    "#row - the row number\n",
    "#col - the col number\n",
    "#returns a boolean if it's in board\n",
    "def checkBoard(row, col):\n",
    "    if row >= len(tttArray)  or col >= len(tttArray[0]):\n",
    "        return False\n",
    "    elif row < 0 or col <0:\n",
    "        return False\n",
    "    elif tttArray[row][col] != \"_\":\n",
    "        return False\n",
    "    else:\n",
    "        return True\n",
    "    "
   ]
  },
  {
   "cell_type": "code",
   "execution_count": null,
   "metadata": {},
   "outputs": [],
   "source": [
    "#check which number is closer to another number\n",
    "#fNum - the first input number\n",
    "#sNum - the second input number\n",
    "#targetNum - the targeted number to compare\n",
    "#returns the number the closest to targetNum or -1 for tie\n",
    "def closestNum(fNum, sNum, targetNum):\n",
    "    #the difference between the fNum and targetNum\n",
    "    fDifference = abs(targetNum - fNum)\n",
    "    sDifference = abs(targetNum - sNum)\n",
    "    \n",
    "    if fDifference < sDifference:\n",
    "        return fNum\n",
    "    elif sDifference < fDifference:\n",
    "        return sNum\n",
    "    else:\n",
    "        return -1\n",
    "        "
   ]
  },
  {
   "cell_type": "code",
   "execution_count": null,
   "metadata": {},
   "outputs": [],
   "source": [
    "#A random number generator \n",
    "#fNum - first number(inclusive)\n",
    "#sNum- second number(inclusive)\n",
    "#returns a random number\n",
    "\n",
    "def randGenerator(fNum, sNum):\n",
    "    print(\"Rolling Dice...\")\n",
    "   \n",
    "    #a small time delay\n",
    "    time.sleep(2)\n",
    "    \n",
    "    print(\"Completed! \\n\")\n",
    "    \n",
    "    return random.randint(fNum,sNum)\n"
   ]
  },
  {
   "cell_type": "code",
   "execution_count": null,
   "metadata": {},
   "outputs": [],
   "source": [
    "#let user predict dice roll number \n",
    "#Whoever gets closer gets to go first\n",
    "#firstUser - the name of the first user\n",
    "#secondUser - the name of the second user\n",
    "\n",
    "#assigns who's playerOne and playerTwo\n",
    "def diceGame(firstUser, secondUser):\n",
    "    \n",
    "    #will keep going until it's no longer a tie\n",
    "    while True:   \n",
    "        randomDiceNum = randGenerator(1, 6)\n",
    "\n",
    "        #check the firstUser\n",
    "        while True:\n",
    "            firstUserGuess = input(\"{fName}, Enter Your Guess(1-6): \".format(fName = firstUser))\n",
    "\n",
    "            #Gets rid of space\n",
    "            firstUserGuess = firstUserGuess.strip()\n",
    "\n",
    "            #to check if it's a number\n",
    "            try:\n",
    "                #to check if the number is in range\n",
    "                firstUserGuess = int(firstUserGuess)\n",
    "                if firstUserGuess < 1 or firstUserGuess > 6:\n",
    "                    print(\"{fName}, Please Enter a Number Between 1 and 6: \".format(fName = firstUser))\n",
    "                    continue\n",
    "            except ValueError:\n",
    "                print(\"{fName}, Please Enter a Number Between 1 and 6: \".format(fName = firstUser))\n",
    "                continue\n",
    "            else:\n",
    "                break\n",
    "        #check the secondUser\n",
    "        while True:\n",
    "            #check the second user input\n",
    "            secondUserGuess = input(\"{sName}, Enter Your Guess(1-6): \".format(sName = secondUser))\n",
    "\n",
    "            #Gets rid of space\n",
    "            secondUserGuess = secondUserGuess.strip()\n",
    "\n",
    "            #to check if it's a number\n",
    "            try:\n",
    "                secondUserGuess = int(secondUserGuess)\n",
    "                #to check if the number is in range\n",
    "                if secondUserGuess < 1 or secondUserGuess > 6:\n",
    "                    print(\"{sName}, Please Enter a Number Between 1 and 6: \".format(sName = secondUser))\n",
    "                    continue\n",
    "            except ValueError:\n",
    "                print(\"{sName}, Please Enter a Number Between 1 and 6: \".format(sName = secondUser))\n",
    "                continue\n",
    "            else:\n",
    "                break\n",
    "\n",
    "        #to check if it's a tie\n",
    "        if closestNum(firstUserGuess, secondUserGuess, randomDiceNum) == -1:\n",
    "            print(\"\\nIt's a Tie! Please Try Again! \\nThe Guess Number was {r} \\n\".format(r = randomDiceNum))\n",
    "            continue\n",
    "        else:\n",
    "            #to see who guessed the closest number\n",
    "            if closestNum(firstUserGuess, secondUserGuess, randomDiceNum) == firstUserGuess:\n",
    "                setPlayerOne(firstUser)\n",
    "                setPlayerTwo(secondUser)\n",
    "            else:\n",
    "                setPlayerOne(secondUser)\n",
    "                setPlayerTwo(firstUser)\n",
    "            print(\"\"\"\\nCongrats! {p1} Guess was the Closest to {r} \n",
    "                    \\nPlayer 1: {p1} \n",
    "                    \\nPlayer 2: {p2}\"\"\".format(p1 = getPlayerOne(), p2 = getPlayerTwo(), r = randomDiceNum))\n",
    "            break\n",
    " "
   ]
  },
  {
   "cell_type": "code",
   "execution_count": null,
   "metadata": {},
   "outputs": [],
   "source": [
    "#begins the game\n",
    "def beginGame():\n",
    "    global tttArray\n",
    "    print(\"Welcome to Tic Tac Toe :)\\n\\nTic Tac Toe Game Initializing...\\n\")\n",
    "    time.sleep(1)\n",
    "\n",
    "    printBoard(tttArray)\n",
    "    #gets the name of both player\n",
    "    firstUserName = input(\"\\nFirst Player, Please Enter Name: \")\n",
    "    secondUserName = input(\"Second Player, Please Enter Name:\")\n",
    "\n",
    "    #determines who goes first\n",
    "    print(\"\\nWe Shall Decide Who's Player 1 and Player 2...\\n\")\n",
    "    time.sleep(1)\n",
    "    diceGame(firstUserName, secondUserName)\n",
    "        \n",
    "    #loop will stop when either tie or win\n",
    "    while True:\n",
    "      \n",
    "        #update the appropiate row and col with marker\n",
    "        rowNum, colNum = userInput()\n",
    "        updateBoard(int(rowNum), int(colNum), whoseMarker(getPlayerTurn()), tttArray)\n",
    "        \n",
    "        if winCheck():\n",
    "            print(\"{player} Wins!\".format(player = whoseTurn(getPlayerTurn())))\n",
    "            break\n",
    "        elif(tieCheck(winCheck)):\n",
    "            print(\"It's a Tie!\")\n",
    "            break\n",
    "        else:\n",
    "            if(getPlayerTurn() == 1):\n",
    "                setPlayerTurn(2)\n",
    "            elif(getPlayerTurn() == 2):\n",
    "                setPlayerTurn(1)\n",
    "            continue\n"
   ]
  },
  {
   "cell_type": "markdown",
   "metadata": {},
   "source": [
    "## Play Game"
   ]
  },
  {
   "cell_type": "code",
   "execution_count": null,
   "metadata": {
    "scrolled": true
   },
   "outputs": [],
   "source": [
    "beginGame()"
   ]
  },
  {
   "cell_type": "markdown",
   "metadata": {},
   "source": [
    "###   \n",
    "    \n",
    "    \n",
    "    \n",
    "    \n",
    "    \n",
    "    \n",
    "    "
   ]
  }
 ],
 "metadata": {
  "kernelspec": {
   "display_name": "Python 3",
   "language": "python",
   "name": "python3"
  },
  "language_info": {
   "codemirror_mode": {
    "name": "ipython",
    "version": 3
   },
   "file_extension": ".py",
   "mimetype": "text/x-python",
   "name": "python",
   "nbconvert_exporter": "python",
   "pygments_lexer": "ipython3",
   "version": "3.6.4"
  }
 },
 "nbformat": 4,
 "nbformat_minor": 2
}
